{
 "cells": [
  {
   "cell_type": "code",
   "execution_count": 1,
   "metadata": {
    "scrolled": true
   },
   "outputs": [
    {
     "data": {
      "application/javascript": [
       "\n",
       "    function code_toggle() {\n",
       "     $('div.input').hide();\n",
       "     $('div#header').hide();\n",
       "     $('div#maintoolbar').hide();\n",
       "    }\n",
       "    $( document ).ready(code_toggle);\n",
       "    "
      ],
      "text/plain": [
       "<IPython.core.display.Javascript object>"
      ]
     },
     "execution_count": 1,
     "metadata": {},
     "output_type": "execute_result"
    }
   ],
   "source": [
    "from IPython.display import HTML, Javascript\n",
    "Javascript('''\n",
    "    function code_toggle() {\n",
    "     $('div.input').hide();\n",
    "     $('div#header').hide();\n",
    "     $('div#maintoolbar').hide();\n",
    "    }\n",
    "    $( document ).ready(code_toggle);\n",
    "    ''')"
   ]
  },
  {
   "cell_type": "markdown",
   "metadata": {},
   "source": [
    "# Динамическая  настройка  параметров в социально-демографическом  рекламном  сервере\n",
    "\n",
    "## Описание\n",
    "\n",
    "Описывается  поведение рекламного  сервера при помощи системы обыкновенных дифференциальных  уравнений (ОДУ),  решением которой является  количество показов во времени  и  значения  динамически  меняющихся параметров во времени.\n",
    "\n",
    "## Условные обозначения\n",
    "\n",
    "1. $t$ — время;\n",
    "2. $T$ — длительность размещения;\n",
    "3. $z(t)$ — нарастающий общий график;\n",
    "4. $S(t)$ — требуемое нарастающее значение  количества  показов по плану;\n",
    "5. $x(t)$ — реальное  количество  показов,  достигнутых  к  моменту времени $t$;\n",
    "6. $y(t)$ — параметр фильтрации  по  соц-дем  признакам – порог вероятности попадания в таргет для прохождения фильтра;\n",
    "7. $\\omega$ — вероятность посетителя попасть в таргет;\n",
    "8. $\\rho(\\omega)$ — распределение  аудитории  по вероятности  попадания  в  таргет;\n",
    "9. $f(z(t), Sx(t), (t), \\beta)$ — функция коррекции параметра $y$;\n",
    "10. $\\beta$ — подбираемый параметр;\n",
    "\n",
    "## ОДУ\n",
    "$\n",
    "\\left\\{\n",
    "\\begin{array}{ll}\n",
    "\\frac{\\partial x}{\\partial t} = 16 \\sin^3 (t) \\\\ \n",
    "\\frac{\\partial y}{\\partial t} = 16 \\sin^3 (t) \\\\ \n",
    "f_\\beta(z, x, S)=f(z, x, S, \\beta), \\ \\beta=const\\\\\n",
    "S=S(t)\\\\\n",
    "x(0)=x_0\\\\\n",
    "y(0)=y_0\n",
    "\\end{array}\n",
    "\\right.$\n",
    "\n",
    "### Дополнительные ограничения\n",
    "$\n",
    "\\left\\{\n",
    "\\begin{array}{ll}\n",
    "\\int_0^1 \\rho(\\omega) d\\omega=1\\\\\n",
    "\\dot{S}(t)\\lesssim \\dot{z}(t)\\\\\n",
    "0\\leqslant y\\leqslant 1\n",
    "\\end{array}\n",
    "\\right.$\n"
   ]
  },
  {
   "cell_type": "code",
   "execution_count": 2,
   "metadata": {},
   "outputs": [
    {
     "data": {
      "application/vnd.jupyter.widget-view+json": {
       "model_id": "3535b023b468423f909283292d7ca59a",
       "version_major": 2,
       "version_minor": 0
      },
      "text/plain": [
       "Label(value='')"
      ]
     },
     "metadata": {},
     "output_type": "display_data"
    },
    {
     "data": {
      "application/vnd.jupyter.widget-view+json": {
       "model_id": "49e935f12ef8423b9728de2a1afafa24",
       "version_major": 2,
       "version_minor": 0
      },
      "text/plain": [
       "Tab(children=(VBox(children=(Label(value='Загрузите функции \\\\(\\\\rho(\\\\omega)\\\\), \\\\(S(t)\\\\), \\\\(z(t)\\\\) (*.cs…"
      ]
     },
     "metadata": {},
     "output_type": "display_data"
    },
    {
     "data": {
      "application/vnd.jupyter.widget-view+json": {
       "model_id": "a947d78626cc4f0ea549b892ad345048",
       "version_major": 2,
       "version_minor": 0
      },
      "text/plain": [
       "VBox(children=(Label(value='Введите параметры задачи Коши:'), HBox(children=(FloatText(value=0.0, description=…"
      ]
     },
     "metadata": {},
     "output_type": "display_data"
    },
    {
     "data": {
      "application/vnd.jupyter.widget-view+json": {
       "model_id": "cafa4dc6309d474e83f1062265a8278b",
       "version_major": 2,
       "version_minor": 0
      },
      "text/plain": [
       "Button(description='Plot', layout=Layout(width='150px'), style=ButtonStyle())"
      ]
     },
     "metadata": {},
     "output_type": "display_data"
    },
    {
     "data": {
      "application/vnd.jupyter.widget-view+json": {
       "model_id": "1c9155a12a7f4187b5be8d4ddd99fc49",
       "version_major": 2,
       "version_minor": 0
      },
      "text/plain": [
       "Output()"
      ]
     },
     "metadata": {},
     "output_type": "display_data"
    },
    {
     "ename": "TraitError",
     "evalue": "The 'value' trait of a Text instance must be a unicode string, but a value of () <class 'tuple'> was specified.",
     "output_type": "error",
     "traceback": [
      "\u001b[0;31m---------------------------------------------------------------------------\u001b[0m",
      "\u001b[0;31mTraitError\u001b[0m                                Traceback (most recent call last)",
      "\u001b[0;32m<ipython-input-2-71a8c4541d41>\u001b[0m in \u001b[0;36mon_button_clicked1\u001b[0;34m(b)\u001b[0m\n\u001b[1;32m     52\u001b[0m     \u001b[0mroot\u001b[0m\u001b[0;34m.\u001b[0m\u001b[0mwithdraw\u001b[0m\u001b[0;34m(\u001b[0m\u001b[0;34m)\u001b[0m\u001b[0;34m\u001b[0m\u001b[0;34m\u001b[0m\u001b[0m\n\u001b[1;32m     53\u001b[0m     \u001b[0mroot\u001b[0m\u001b[0;34m.\u001b[0m\u001b[0mcall\u001b[0m\u001b[0;34m(\u001b[0m\u001b[0;34m'wm'\u001b[0m\u001b[0;34m,\u001b[0m \u001b[0;34m'attributes'\u001b[0m\u001b[0;34m,\u001b[0m \u001b[0;34m'.'\u001b[0m\u001b[0;34m,\u001b[0m \u001b[0;34m'-topmost'\u001b[0m\u001b[0;34m,\u001b[0m \u001b[0;32mTrue\u001b[0m\u001b[0;34m)\u001b[0m\u001b[0;34m\u001b[0m\u001b[0;34m\u001b[0m\u001b[0m\n\u001b[0;32m---> 54\u001b[0;31m     \u001b[0mtext1\u001b[0m\u001b[0;34m.\u001b[0m\u001b[0mvalue\u001b[0m \u001b[0;34m=\u001b[0m \u001b[0mfiledialog\u001b[0m\u001b[0;34m.\u001b[0m\u001b[0maskopenfilename\u001b[0m\u001b[0;34m(\u001b[0m\u001b[0mtitle\u001b[0m \u001b[0;34m=\u001b[0m \u001b[0;34m\"Select file\"\u001b[0m\u001b[0;34m)\u001b[0m\u001b[0;34m\u001b[0m\u001b[0;34m\u001b[0m\u001b[0m\n\u001b[0m\u001b[1;32m     55\u001b[0m \u001b[0;34m\u001b[0m\u001b[0m\n\u001b[1;32m     56\u001b[0m \u001b[0;32mdef\u001b[0m \u001b[0mon_button_clicked2\u001b[0m\u001b[0;34m(\u001b[0m\u001b[0mb\u001b[0m\u001b[0;34m)\u001b[0m\u001b[0;34m:\u001b[0m\u001b[0;34m\u001b[0m\u001b[0;34m\u001b[0m\u001b[0m\n",
      "\u001b[0;32m/usr/lib/python3.7/site-packages/traitlets/traitlets.py\u001b[0m in \u001b[0;36m__set__\u001b[0;34m(self, obj, value)\u001b[0m\n\u001b[1;32m    583\u001b[0m             \u001b[0;32mraise\u001b[0m \u001b[0mTraitError\u001b[0m\u001b[0;34m(\u001b[0m\u001b[0;34m'The \"%s\" trait is read-only.'\u001b[0m \u001b[0;34m%\u001b[0m \u001b[0mself\u001b[0m\u001b[0;34m.\u001b[0m\u001b[0mname\u001b[0m\u001b[0;34m)\u001b[0m\u001b[0;34m\u001b[0m\u001b[0;34m\u001b[0m\u001b[0m\n\u001b[1;32m    584\u001b[0m         \u001b[0;32melse\u001b[0m\u001b[0;34m:\u001b[0m\u001b[0;34m\u001b[0m\u001b[0;34m\u001b[0m\u001b[0m\n\u001b[0;32m--> 585\u001b[0;31m             \u001b[0mself\u001b[0m\u001b[0;34m.\u001b[0m\u001b[0mset\u001b[0m\u001b[0;34m(\u001b[0m\u001b[0mobj\u001b[0m\u001b[0;34m,\u001b[0m \u001b[0mvalue\u001b[0m\u001b[0;34m)\u001b[0m\u001b[0;34m\u001b[0m\u001b[0;34m\u001b[0m\u001b[0m\n\u001b[0m\u001b[1;32m    586\u001b[0m \u001b[0;34m\u001b[0m\u001b[0m\n\u001b[1;32m    587\u001b[0m     \u001b[0;32mdef\u001b[0m \u001b[0m_validate\u001b[0m\u001b[0;34m(\u001b[0m\u001b[0mself\u001b[0m\u001b[0;34m,\u001b[0m \u001b[0mobj\u001b[0m\u001b[0;34m,\u001b[0m \u001b[0mvalue\u001b[0m\u001b[0;34m)\u001b[0m\u001b[0;34m:\u001b[0m\u001b[0;34m\u001b[0m\u001b[0;34m\u001b[0m\u001b[0m\n",
      "\u001b[0;32m/usr/lib/python3.7/site-packages/traitlets/traitlets.py\u001b[0m in \u001b[0;36mset\u001b[0;34m(self, obj, value)\u001b[0m\n\u001b[1;32m    557\u001b[0m \u001b[0;34m\u001b[0m\u001b[0m\n\u001b[1;32m    558\u001b[0m     \u001b[0;32mdef\u001b[0m \u001b[0mset\u001b[0m\u001b[0;34m(\u001b[0m\u001b[0mself\u001b[0m\u001b[0;34m,\u001b[0m \u001b[0mobj\u001b[0m\u001b[0;34m,\u001b[0m \u001b[0mvalue\u001b[0m\u001b[0;34m)\u001b[0m\u001b[0;34m:\u001b[0m\u001b[0;34m\u001b[0m\u001b[0;34m\u001b[0m\u001b[0m\n\u001b[0;32m--> 559\u001b[0;31m         \u001b[0mnew_value\u001b[0m \u001b[0;34m=\u001b[0m \u001b[0mself\u001b[0m\u001b[0;34m.\u001b[0m\u001b[0m_validate\u001b[0m\u001b[0;34m(\u001b[0m\u001b[0mobj\u001b[0m\u001b[0;34m,\u001b[0m \u001b[0mvalue\u001b[0m\u001b[0;34m)\u001b[0m\u001b[0;34m\u001b[0m\u001b[0;34m\u001b[0m\u001b[0m\n\u001b[0m\u001b[1;32m    560\u001b[0m         \u001b[0;32mtry\u001b[0m\u001b[0;34m:\u001b[0m\u001b[0;34m\u001b[0m\u001b[0;34m\u001b[0m\u001b[0m\n\u001b[1;32m    561\u001b[0m             \u001b[0mold_value\u001b[0m \u001b[0;34m=\u001b[0m \u001b[0mobj\u001b[0m\u001b[0;34m.\u001b[0m\u001b[0m_trait_values\u001b[0m\u001b[0;34m[\u001b[0m\u001b[0mself\u001b[0m\u001b[0;34m.\u001b[0m\u001b[0mname\u001b[0m\u001b[0;34m]\u001b[0m\u001b[0;34m\u001b[0m\u001b[0;34m\u001b[0m\u001b[0m\n",
      "\u001b[0;32m/usr/lib/python3.7/site-packages/traitlets/traitlets.py\u001b[0m in \u001b[0;36m_validate\u001b[0;34m(self, obj, value)\u001b[0m\n\u001b[1;32m    589\u001b[0m             \u001b[0;32mreturn\u001b[0m \u001b[0mvalue\u001b[0m\u001b[0;34m\u001b[0m\u001b[0;34m\u001b[0m\u001b[0m\n\u001b[1;32m    590\u001b[0m         \u001b[0;32mif\u001b[0m \u001b[0mhasattr\u001b[0m\u001b[0;34m(\u001b[0m\u001b[0mself\u001b[0m\u001b[0;34m,\u001b[0m \u001b[0;34m'validate'\u001b[0m\u001b[0;34m)\u001b[0m\u001b[0;34m:\u001b[0m\u001b[0;34m\u001b[0m\u001b[0;34m\u001b[0m\u001b[0m\n\u001b[0;32m--> 591\u001b[0;31m             \u001b[0mvalue\u001b[0m \u001b[0;34m=\u001b[0m \u001b[0mself\u001b[0m\u001b[0;34m.\u001b[0m\u001b[0mvalidate\u001b[0m\u001b[0;34m(\u001b[0m\u001b[0mobj\u001b[0m\u001b[0;34m,\u001b[0m \u001b[0mvalue\u001b[0m\u001b[0;34m)\u001b[0m\u001b[0;34m\u001b[0m\u001b[0;34m\u001b[0m\u001b[0m\n\u001b[0m\u001b[1;32m    592\u001b[0m         \u001b[0;32mif\u001b[0m \u001b[0mobj\u001b[0m\u001b[0;34m.\u001b[0m\u001b[0m_cross_validation_lock\u001b[0m \u001b[0;32mis\u001b[0m \u001b[0;32mFalse\u001b[0m\u001b[0;34m:\u001b[0m\u001b[0;34m\u001b[0m\u001b[0;34m\u001b[0m\u001b[0m\n\u001b[1;32m    593\u001b[0m             \u001b[0mvalue\u001b[0m \u001b[0;34m=\u001b[0m \u001b[0mself\u001b[0m\u001b[0;34m.\u001b[0m\u001b[0m_cross_validate\u001b[0m\u001b[0;34m(\u001b[0m\u001b[0mobj\u001b[0m\u001b[0;34m,\u001b[0m \u001b[0mvalue\u001b[0m\u001b[0;34m)\u001b[0m\u001b[0;34m\u001b[0m\u001b[0;34m\u001b[0m\u001b[0m\n",
      "\u001b[0;32m/usr/lib/python3.7/site-packages/traitlets/traitlets.py\u001b[0m in \u001b[0;36mvalidate\u001b[0;34m(self, obj, value)\u001b[0m\n\u001b[1;32m   2052\u001b[0m                 \u001b[0mmsg\u001b[0m \u001b[0;34m=\u001b[0m \u001b[0;34m\"Could not decode {!r} for unicode trait '{}' of {} instance.\"\u001b[0m\u001b[0;34m\u001b[0m\u001b[0;34m\u001b[0m\u001b[0m\n\u001b[1;32m   2053\u001b[0m                 \u001b[0;32mraise\u001b[0m \u001b[0mTraitError\u001b[0m\u001b[0;34m(\u001b[0m\u001b[0mmsg\u001b[0m\u001b[0;34m.\u001b[0m\u001b[0mformat\u001b[0m\u001b[0;34m(\u001b[0m\u001b[0mvalue\u001b[0m\u001b[0;34m,\u001b[0m \u001b[0mself\u001b[0m\u001b[0;34m.\u001b[0m\u001b[0mname\u001b[0m\u001b[0;34m,\u001b[0m \u001b[0mclass_of\u001b[0m\u001b[0;34m(\u001b[0m\u001b[0mobj\u001b[0m\u001b[0;34m)\u001b[0m\u001b[0;34m)\u001b[0m\u001b[0;34m)\u001b[0m\u001b[0;34m\u001b[0m\u001b[0;34m\u001b[0m\u001b[0m\n\u001b[0;32m-> 2054\u001b[0;31m         \u001b[0mself\u001b[0m\u001b[0;34m.\u001b[0m\u001b[0merror\u001b[0m\u001b[0;34m(\u001b[0m\u001b[0mobj\u001b[0m\u001b[0;34m,\u001b[0m \u001b[0mvalue\u001b[0m\u001b[0;34m)\u001b[0m\u001b[0;34m\u001b[0m\u001b[0;34m\u001b[0m\u001b[0m\n\u001b[0m\u001b[1;32m   2055\u001b[0m \u001b[0;34m\u001b[0m\u001b[0m\n\u001b[1;32m   2056\u001b[0m \u001b[0;34m\u001b[0m\u001b[0m\n",
      "\u001b[0;32m/usr/lib/python3.7/site-packages/traitlets/traitlets.py\u001b[0m in \u001b[0;36merror\u001b[0;34m(self, obj, value)\u001b[0m\n\u001b[1;32m    623\u001b[0m             \u001b[0me\u001b[0m \u001b[0;34m=\u001b[0m \u001b[0;34m\"The '%s' trait must be %s, but a value of %r was specified.\"\u001b[0m\u001b[0;31m \u001b[0m\u001b[0;31m\\\u001b[0m\u001b[0;34m\u001b[0m\u001b[0;34m\u001b[0m\u001b[0m\n\u001b[1;32m    624\u001b[0m                 \u001b[0;34m%\u001b[0m \u001b[0;34m(\u001b[0m\u001b[0mself\u001b[0m\u001b[0;34m.\u001b[0m\u001b[0mname\u001b[0m\u001b[0;34m,\u001b[0m \u001b[0mself\u001b[0m\u001b[0;34m.\u001b[0m\u001b[0minfo\u001b[0m\u001b[0;34m(\u001b[0m\u001b[0;34m)\u001b[0m\u001b[0;34m,\u001b[0m \u001b[0mrepr_type\u001b[0m\u001b[0;34m(\u001b[0m\u001b[0mvalue\u001b[0m\u001b[0;34m)\u001b[0m\u001b[0;34m)\u001b[0m\u001b[0;34m\u001b[0m\u001b[0;34m\u001b[0m\u001b[0m\n\u001b[0;32m--> 625\u001b[0;31m         \u001b[0;32mraise\u001b[0m \u001b[0mTraitError\u001b[0m\u001b[0;34m(\u001b[0m\u001b[0me\u001b[0m\u001b[0;34m)\u001b[0m\u001b[0;34m\u001b[0m\u001b[0;34m\u001b[0m\u001b[0m\n\u001b[0m\u001b[1;32m    626\u001b[0m \u001b[0;34m\u001b[0m\u001b[0m\n\u001b[1;32m    627\u001b[0m     \u001b[0;32mdef\u001b[0m \u001b[0mget_metadata\u001b[0m\u001b[0;34m(\u001b[0m\u001b[0mself\u001b[0m\u001b[0;34m,\u001b[0m \u001b[0mkey\u001b[0m\u001b[0;34m,\u001b[0m \u001b[0mdefault\u001b[0m\u001b[0;34m=\u001b[0m\u001b[0;32mNone\u001b[0m\u001b[0;34m)\u001b[0m\u001b[0;34m:\u001b[0m\u001b[0;34m\u001b[0m\u001b[0;34m\u001b[0m\u001b[0m\n",
      "\u001b[0;31mTraitError\u001b[0m: The 'value' trait of a Text instance must be a unicode string, but a value of () <class 'tuple'> was specified."
     ]
    }
   ],
   "source": [
    "import warnings\n",
    "warnings.simplefilter('ignore')\n",
    "import ipywidgets\n",
    "from ipywidgets import *\n",
    "import ipywidgets as widgets\n",
    "\n",
    "%matplotlib inline\n",
    "import pandas as pd\n",
    "import numpy as np\n",
    "import matplotlib.pyplot as plt\n",
    "\n",
    "from IPython.display import display\n",
    "from tkinter import Tk, filedialog\n",
    "import interpolate, integral, cauchy, handler\n",
    "\n",
    "# -------- Tab1 Section -------\n",
    "\n",
    "out = ipywidgets.Output()\n",
    "\n",
    "correct = False\n",
    "grid_p, grid_S, grid_z = None, None, None\n",
    "x0, y0, T, beta = None, None, None, None\n",
    "\n",
    "label0 = Label(r'')\n",
    "\n",
    "label1 = Label(r'Загрузите функции \\(\\rho(\\omega)\\), \\(S(t)\\), \\(z(t)\\) (*.csv):')\n",
    "button1 = widgets.Button(description='Choose file...',\n",
    "                       layout=Layout(width='100px'))\n",
    "\n",
    "text1 = widgets.Text(description=r\"\\(\\rho(\\omega)\\) : \",\n",
    "                   layout=Layout(width='500px'))\n",
    "\n",
    "\n",
    "button2 = widgets.Button(description='Choose file...',\n",
    "                       layout=Layout(width='100px'))\n",
    "\n",
    "text2 = widgets.Text(description=r\"\\(S(t)\\) : \",\n",
    "                   layout=Layout(width='500px'))\n",
    "\n",
    "button3 = widgets.Button(description='Choose file...',\n",
    "                       layout=Layout(width='100px'))\n",
    "\n",
    "text3 = widgets.Text(description=r\"\\(z(t)\\) : \",\n",
    "                   layout=Layout(width='500px'))\n",
    "\n",
    "buttont1 = widgets.Button(description='Load',\n",
    "                       layout=Layout(width='100px'))\n",
    "\n",
    "\n",
    "def on_button_clicked1(b):\n",
    "    root = Tk()\n",
    "    root.withdraw()\n",
    "    root.call('wm', 'attributes', '.', '-topmost', True)\n",
    "    text1.value = filedialog.askopenfilename(title = \"Select file\")\n",
    "    \n",
    "def on_button_clicked2(b):\n",
    "    root = Tk()\n",
    "    root.withdraw()\n",
    "    root.call('wm', 'attributes', '.', '-topmost', True)\n",
    "    text2.value = filedialog.askopenfilename(title = \"Select file\")\n",
    "    \n",
    "def on_button_clicked3(b):\n",
    "    root = Tk()\n",
    "    root.withdraw()\n",
    "    root.call('wm', 'attributes', '.', '-topmost', True)\n",
    "    text3.value = filedialog.askopenfilename(title = \"Select file\")\n",
    "    \n",
    "def on_button_clickedt1(b):\n",
    "    global grid_p, grid_S, grid_z\n",
    "    correct = False\n",
    "    try:\n",
    "        grid_p = pd.read_csv(text1.value).values\n",
    "        grid_S = pd.read_csv(text2.value).values\n",
    "        grid_z = pd.read_csv(text3.value).values\n",
    "        correct = True\n",
    "    except Exception as e:\n",
    "        out.clear_output()\n",
    "        with out:\n",
    "            display(HTML(f'''\n",
    "            <div class=\"alert alert-danger\">\n",
    "                {str(e)}\n",
    "            </div>'''))\n",
    "\n",
    "tab1 = VBox([\n",
    "    label1,\n",
    "    HBox([text1, button1]),\n",
    "    HBox([text2, button2]),\n",
    "    HBox([text3, button3]),\n",
    "    label0,\n",
    "    buttont1\n",
    "])\n",
    "\n",
    "button1.on_click(on_button_clicked1)\n",
    "button2.on_click(on_button_clicked2)\n",
    "button3.on_click(on_button_clicked3)\n",
    "buttont1.on_click(on_button_clickedt1)\n",
    "\n",
    "\n",
    "# -------- Tab2 Section -------\n",
    "\n",
    "label2 = Label(r'Задайте параметры функции \\(\\rho(\\omega)=a\\omega(b-\\omega)\\):')\n",
    "input_a = FloatText(value=6, description='\\(a\\) :  ', layout=Layout(width='200px'))\n",
    "input_b = FloatText(value=1, description='\\(b\\) :  ', layout=Layout(width='200px'))\n",
    "\n",
    "label3 = Label(r'Задайте параметры функции \\(S(t)=mt+n\\sin{kt}\\):')\n",
    "input_m = FloatText(value=3, description='\\(m\\) :  ', layout=Layout(width='200px'))\n",
    "input_n = FloatText(value=1, description='\\(n\\) :  ', layout=Layout(width='200px'))\n",
    "input_k = FloatText(value=1, description='\\(k\\) :  ', layout=Layout(width='200px'))\n",
    "\n",
    "label4 = Label(r'Задайте параметры функции \\(z(t)=pt+q\\cos{rt}\\):')\n",
    "input_p = FloatText(value=4, description='\\(p\\) :  ', layout=Layout(width='200px'))\n",
    "input_q = FloatText(value=1, description='\\(q\\) :  ', layout=Layout(width='200px'))\n",
    "input_r = FloatText(value=1, description='\\(r\\) :  ', layout=Layout(width='200px'))\n",
    "\n",
    "buttont2 = widgets.Button(description='Load',\n",
    "                       layout=Layout(width='100px'))\n",
    "\n",
    "def on_button_clickedt2(b):\n",
    "    correct=False\n",
    "    try:\n",
    "        global grid_p, grid_S, grid_z\n",
    "        a = float(input_a.value)\n",
    "        b = float(input_a.value)\n",
    "        m = float(input_m.value)\n",
    "        n = float(input_n.value)\n",
    "        k = float(input_k.value)\n",
    "        p = float(input_p.value)\n",
    "        q = float(input_q.value)\n",
    "        r = float(input_r.value)\n",
    "        xp = np.linspace(0, 1, 20)\n",
    "        x = np.linspace(0, 10, 100)\n",
    "        y1 = a * xp * (b - xp)\n",
    "        y2 = m * x + n * np.sin(k * x)\n",
    "        y3 = m * x + n * np.sin(k * x)\n",
    "        grid_p = np.array([xp, y1])\n",
    "        grid_S = np.array([x, y2])\n",
    "        grid_z = np.array([x, y3])\n",
    "        correct = True\n",
    "        out.clear_output()\n",
    "    except:\n",
    "        out.clear_output()\n",
    "        with out:\n",
    "            display(HTML(f'''\n",
    "            <div class=\"alert alert-danger\">\n",
    "                data type error!\n",
    "            </div>'''))\n",
    "\n",
    "tab2 = VBox([\n",
    "    label2,\n",
    "    HBox([input_a, input_b]),\n",
    "    label3,\n",
    "    HBox([input_m, input_n, input_k]),\n",
    "    label4,\n",
    "    HBox([input_p, input_q, input_r]),\n",
    "    label0,\n",
    "    buttont2\n",
    "])\n",
    "\n",
    "buttont2.on_click(on_button_clickedt2)\n",
    "\n",
    "# -------- Tab Section --------\n",
    "\n",
    "\n",
    "def on_button_clicked_plt(b):\n",
    "    out.clear_output()\n",
    "    try:\n",
    "        a = float(input_a.value)\n",
    "        b = float(input_a.value)\n",
    "        m = float(input_m.value)\n",
    "        n = float(input_n.value)\n",
    "        correct = True\n",
    "    except Exception as e:\n",
    "        out.clear_output()\n",
    "        with out:\n",
    "            display(HTML(f'''\n",
    "            <div class=\"alert alert-danger\">\n",
    "                data type error!\n",
    "            </div>'''))\n",
    "    else:\n",
    "        with out:\n",
    "            fig, axes = plt.subplots(3, 1, figsize=(20, 20))\n",
    "            axes[0].plot(grid_p[0], grid_p[1])\n",
    "            axes[0].set_title(r'$\\rho(\\omega)$')\n",
    "            axes[1].plot(grid_S[0], grid_S[1])\n",
    "            axes[1].set_title(r'$S(t)$')\n",
    "            axes[2].plot(grid_z[0], grid_z[1])\n",
    "            axes[2].set_title('$z(t)$')\n",
    "            plt.show()\n",
    "\n",
    "tab = Tab([tab1, tab2])\n",
    "tab.set_title(0, 'Grid')\n",
    "tab.set_title(1, 'Parameters')\n",
    "display(label0, tab)\n",
    "\n",
    "label4 = Label(r'Введите параметры задачи Коши:')\n",
    "input_x0 = FloatText(value=0, description=r'\\(X_0\\) :  ', layout=Layout(width='150px'))\n",
    "input_y0 = FloatText(value=0, description=r'\\(Y_0\\) :  ', layout=Layout(width='150px'))\n",
    "input_T = FloatText(value=1, description=r'\\(T\\) :  ', layout=Layout(width='150px'))\n",
    "input_beta = FloatText(value=0.01, description=r'\\(\\beta\\) :  ', layout=Layout(width='150px'))\n",
    "button_plt = widgets.Button(description='Plot',\n",
    "                       layout=Layout(heght='50px', width='150px'))\n",
    "\n",
    "button_plt.on_click(on_button_clicked_plt)\n",
    "\n",
    "box = VBox([\n",
    "    label4,\n",
    "    HBox([input_x0, input_y0, input_T, input_beta])\n",
    "])\n",
    "\n",
    "display(box, button_plt, out)"
   ]
  },
  {
   "cell_type": "code",
   "execution_count": null,
   "metadata": {},
   "outputs": [],
   "source": []
  }
 ],
 "metadata": {
  "hide_input": false,
  "kernelspec": {
   "display_name": "Python 3",
   "language": "python",
   "name": "python3"
  },
  "language_info": {
   "codemirror_mode": {
    "name": "ipython",
    "version": 3
   },
   "file_extension": ".py",
   "mimetype": "text/x-python",
   "name": "python",
   "nbconvert_exporter": "python",
   "pygments_lexer": "ipython3",
   "version": "3.7.1"
  },
  "toc": {
   "base_numbering": 1,
   "nav_menu": {},
   "number_sections": true,
   "sideBar": true,
   "skip_h1_title": false,
   "title_cell": "Table of Contents",
   "title_sidebar": "Contents",
   "toc_cell": false,
   "toc_position": {},
   "toc_section_display": true,
   "toc_window_display": false
  },
  "varInspector": {
   "cols": {
    "lenName": 16,
    "lenType": 16,
    "lenVar": 40
   },
   "kernels_config": {
    "python": {
     "delete_cmd_postfix": "",
     "delete_cmd_prefix": "del ",
     "library": "var_list.py",
     "varRefreshCmd": "print(var_dic_list())"
    },
    "r": {
     "delete_cmd_postfix": ") ",
     "delete_cmd_prefix": "rm(",
     "library": "var_list.r",
     "varRefreshCmd": "cat(var_dic_list()) "
    }
   },
   "types_to_exclude": [
    "module",
    "function",
    "builtin_function_or_method",
    "instance",
    "_Feature"
   ],
   "window_display": false
  }
 },
 "nbformat": 4,
 "nbformat_minor": 2
}
